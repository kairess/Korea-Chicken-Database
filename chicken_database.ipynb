{
 "cells": [
  {
   "cell_type": "code",
   "execution_count": 1,
   "metadata": {},
   "outputs": [],
   "source": [
    "import requests\n",
    "from tqdm import tqdm\n",
    "import time"
   ]
  },
  {
   "cell_type": "markdown",
   "metadata": {},
   "source": [
    "# 카카오 API\n",
    "\n",
    "- 키워드로 장소 검색: https://developers.kakao.com/docs/latest/ko/local/dev-guide#search-by-keyword\n",
    "- 카카오 개발자 API 키 발급: https://developers.kakao.com/\n",
    "  - App 생성\n",
    "  - REST API 키 복사, 붙여넣기"
   ]
  },
  {
   "cell_type": "code",
   "execution_count": 2,
   "metadata": {},
   "outputs": [
    {
     "name": "stdout",
     "output_type": "stream",
     "text": [
      "dict_keys(['documents', 'meta'])\n"
     ]
    }
   ],
   "source": [
    "app_key = 'KakaoAK ' + '__YOUR_API_KEY__'\n",
    "\n",
    "url = 'https://dapi.kakao.com/v2/local/search/keyword.json'\n",
    "\n",
    "params = {\n",
    "    'query': '치킨',\n",
    "    'category_group_code': 'FD6', # 음식점\n",
    "    'page': 45\n",
    "}\n",
    "\n",
    "headers = {\n",
    "    'Authorization': app_key\n",
    "}\n",
    "\n",
    "res = requests.get(url, params=params, headers=headers).json()\n",
    "\n",
    "print(res.keys())"
   ]
  },
  {
   "cell_type": "code",
   "execution_count": 3,
   "metadata": {},
   "outputs": [
    {
     "data": {
      "text/plain": [
       "[{'address_name': '서울 서초구 방배동 425-1',\n",
       "  'category_group_code': 'FD6',\n",
       "  'category_group_name': '음식점',\n",
       "  'category_name': '음식점 > 치킨',\n",
       "  'distance': '',\n",
       "  'id': '762088017',\n",
       "  'phone': '02-581-8892',\n",
       "  'place_name': '이수통닭 본점',\n",
       "  'place_url': 'http://place.map.kakao.com/762088017',\n",
       "  'road_address_name': '서울 서초구 방배천로 92',\n",
       "  'x': '126.983243569037',\n",
       "  'y': '37.4845544339284'},\n",
       " {'address_name': '경기 고양시 덕양구 용두동 432-46',\n",
       "  'category_group_code': 'FD6',\n",
       "  'category_group_name': '음식점',\n",
       "  'category_name': '음식점 > 치킨',\n",
       "  'distance': '',\n",
       "  'id': '17126860',\n",
       "  'phone': '02-382-1117',\n",
       "  'place_name': '원조카우보이 한방통닭',\n",
       "  'place_url': 'http://place.map.kakao.com/17126860',\n",
       "  'road_address_name': '경기 고양시 덕양구 용두로47번길 191',\n",
       "  'x': '126.8950350447584',\n",
       "  'y': '37.62644849863467'},\n",
       " {'address_name': '서울 서초구 반포동 1050',\n",
       "  'category_group_code': 'FD6',\n",
       "  'category_group_name': '음식점',\n",
       "  'category_name': '음식점 > 치킨',\n",
       "  'distance': '',\n",
       "  'id': '7888233',\n",
       "  'phone': '02-599-1636',\n",
       "  'place_name': '반포치킨',\n",
       "  'place_url': 'http://place.map.kakao.com/7888233',\n",
       "  'road_address_name': '서울 서초구 신반포로 38',\n",
       "  'x': '126.989401012701',\n",
       "  'y': '37.5016130146684'},\n",
       " {'address_name': '부산 수영구 광안동 120-101',\n",
       "  'category_group_code': 'FD6',\n",
       "  'category_group_name': '음식점',\n",
       "  'category_name': '음식점 > 치킨',\n",
       "  'distance': '',\n",
       "  'id': '445457740',\n",
       "  'phone': '051-754-9233',\n",
       "  'place_name': '낭만장작 누룽지통닭구이',\n",
       "  'place_url': 'http://place.map.kakao.com/445457740',\n",
       "  'road_address_name': '부산 수영구 무학로10번길 47',\n",
       "  'x': '129.11453346023265',\n",
       "  'y': '35.15967991325595'},\n",
       " {'address_name': '경기 수원시 팔달구 남수동 114-3',\n",
       "  'category_group_code': 'FD6',\n",
       "  'category_group_name': '음식점',\n",
       "  'category_name': '음식점 > 치킨',\n",
       "  'distance': '',\n",
       "  'id': '11162155',\n",
       "  'phone': '031-252-5190',\n",
       "  'place_name': '장안통닭',\n",
       "  'place_url': 'http://place.map.kakao.com/11162155',\n",
       "  'road_address_name': '경기 수원시 팔달구 팔달문로3번길 42',\n",
       "  'x': '127.017847459363',\n",
       "  'y': '37.2794271170333'},\n",
       " {'address_name': '경기 안양시 동안구 관양동 1501-4',\n",
       "  'category_group_code': 'FD6',\n",
       "  'category_group_name': '음식점',\n",
       "  'category_name': '음식점 > 치킨',\n",
       "  'distance': '',\n",
       "  'id': '9952433',\n",
       "  'phone': '031-421-8292',\n",
       "  'place_name': '유성통닭',\n",
       "  'place_url': 'http://place.map.kakao.com/9952433',\n",
       "  'road_address_name': '경기 안양시 동안구 인덕원로24번길 41-15',\n",
       "  'x': '126.97557090973763',\n",
       "  'y': '37.40106506095976'},\n",
       " {'address_name': '대구 중구 삼덕동1가 62-1',\n",
       "  'category_group_code': 'FD6',\n",
       "  'category_group_name': '음식점',\n",
       "  'category_name': '음식점 > 치킨',\n",
       "  'distance': '',\n",
       "  'id': '1767432954',\n",
       "  'phone': '053-252-5575',\n",
       "  'place_name': '삼덕통닭 동성로점',\n",
       "  'place_url': 'http://place.map.kakao.com/1767432954',\n",
       "  'road_address_name': '대구 중구 동성로5길 89',\n",
       "  'x': '128.59942495762826',\n",
       "  'y': '35.867132464640896'},\n",
       " {'address_name': '대구 남구 대명동 490-2',\n",
       "  'category_group_code': 'FD6',\n",
       "  'category_group_name': '음식점',\n",
       "  'category_name': '음식점 > 치킨',\n",
       "  'distance': '',\n",
       "  'id': '27081645',\n",
       "  'phone': '053-621-1055',\n",
       "  'place_name': '앞산옛날통닭',\n",
       "  'place_url': 'http://place.map.kakao.com/27081645',\n",
       "  'road_address_name': '대구 남구 현충로 61',\n",
       "  'x': '128.579604377125',\n",
       "  'y': '35.8383390716331'},\n",
       " {'address_name': '서울 강남구 논현동 105-4',\n",
       "  'category_group_code': 'FD6',\n",
       "  'category_group_name': '음식점',\n",
       "  'category_name': '음식점 > 치킨',\n",
       "  'distance': '',\n",
       "  'id': '1139521945',\n",
       "  'phone': '02-518-0628',\n",
       "  'place_name': '효도치킨 논현본점',\n",
       "  'place_url': 'http://place.map.kakao.com/1139521945',\n",
       "  'road_address_name': '서울 강남구 도산대로46길 21',\n",
       "  'x': '127.037447632751',\n",
       "  'y': '37.520910671964'},\n",
       " {'address_name': '경기 수원시 장안구 송죽동 272-75',\n",
       "  'category_group_code': 'FD6',\n",
       "  'category_group_name': '음식점',\n",
       "  'category_name': '음식점 > 치킨',\n",
       "  'distance': '',\n",
       "  'id': '21658346',\n",
       "  'phone': '031-241-9291',\n",
       "  'place_name': '용성통닭 만석공원직영점',\n",
       "  'place_url': 'http://place.map.kakao.com/21658346',\n",
       "  'road_address_name': '경기 수원시 장안구 만석로 169',\n",
       "  'x': '126.998466015939',\n",
       "  'y': '37.3023184236665'},\n",
       " {'address_name': '서울 강남구 신사동 662-4',\n",
       "  'category_group_code': 'FD6',\n",
       "  'category_group_name': '음식점',\n",
       "  'category_name': '음식점 > 치킨',\n",
       "  'distance': '',\n",
       "  'id': '1635267962',\n",
       "  'phone': '02-514-8999',\n",
       "  'place_name': '로켓크리스피치킨 압구정로데오2호점',\n",
       "  'place_url': 'http://place.map.kakao.com/1635267962',\n",
       "  'road_address_name': '서울 강남구 언주로172길 51',\n",
       "  'x': '127.03805707235',\n",
       "  'y': '37.52703368953'},\n",
       " {'address_name': '서울 서초구 잠원동 72-2',\n",
       "  'category_group_code': 'FD6',\n",
       "  'category_group_name': '음식점',\n",
       "  'category_name': '음식점 > 치킨',\n",
       "  'distance': '',\n",
       "  'id': '8611462',\n",
       "  'phone': '02-596-5990',\n",
       "  'place_name': '한신치킨',\n",
       "  'place_url': 'http://place.map.kakao.com/8611462',\n",
       "  'road_address_name': '서울 서초구 신반포로23길 30',\n",
       "  'x': '127.003565002416',\n",
       "  'y': '37.5087818347685'},\n",
       " {'address_name': '제주특별자치도 제주시 용담일동 157-6',\n",
       "  'category_group_code': 'FD6',\n",
       "  'category_group_name': '음식점',\n",
       "  'category_name': '음식점 > 치킨',\n",
       "  'distance': '',\n",
       "  'id': '9818773',\n",
       "  'phone': '064-758-9822',\n",
       "  'place_name': '백양닭집',\n",
       "  'place_url': 'http://place.map.kakao.com/9818773',\n",
       "  'road_address_name': '제주특별자치도 제주시 서문로6길 7',\n",
       "  'x': '126.51851689208124',\n",
       "  'y': '33.511355161140216'},\n",
       " {'address_name': '서울 강남구 역삼동 827-24',\n",
       "  'category_group_code': 'FD6',\n",
       "  'category_group_name': '음식점',\n",
       "  'category_name': '음식점 > 치킨',\n",
       "  'distance': '',\n",
       "  'id': '1399873387',\n",
       "  'phone': '',\n",
       "  'place_name': '모던통닭 역삼점',\n",
       "  'place_url': 'http://place.map.kakao.com/1399873387',\n",
       "  'road_address_name': '서울 강남구 테헤란로6길 48',\n",
       "  'x': '127.031604413417',\n",
       "  'y': '37.4955545000956'},\n",
       " {'address_name': '전북 군산시 명산동 18-2',\n",
       "  'category_group_code': 'FD6',\n",
       "  'category_group_name': '음식점',\n",
       "  'category_name': '음식점 > 치킨',\n",
       "  'distance': '',\n",
       "  'id': '840463250',\n",
       "  'phone': '063-464-5755',\n",
       "  'place_name': '군산통닭',\n",
       "  'place_url': 'http://place.map.kakao.com/840463250',\n",
       "  'road_address_name': '전북 군산시 월명로 465',\n",
       "  'x': '126.70983401368832',\n",
       "  'y': '35.983255200780974'}]"
      ]
     },
     "execution_count": 3,
     "metadata": {},
     "output_type": "execute_result"
    }
   ],
   "source": [
    "res['documents']"
   ]
  },
  {
   "cell_type": "code",
   "execution_count": 4,
   "metadata": {},
   "outputs": [
    {
     "data": {
      "text/plain": [
       "{'is_end': True,\n",
       " 'pageable_count': 45,\n",
       " 'same_name': {'keyword': '치킨', 'region': [], 'selected_region': ''},\n",
       " 'total_count': 54613}"
      ]
     },
     "execution_count": 4,
     "metadata": {},
     "output_type": "execute_result"
    }
   ],
   "source": [
    "res['meta']"
   ]
  },
  {
   "cell_type": "markdown",
   "metadata": {},
   "source": [
    "# 한계\n",
    "- 45페이지까지의 값밖에 받아올 수 없음"
   ]
  },
  {
   "cell_type": "code",
   "execution_count": 5,
   "metadata": {},
   "outputs": [
    {
     "name": "stdout",
     "output_type": "stream",
     "text": [
      "{'errorType': 'InvalidArgument', 'message': 'page is more than max'}\n"
     ]
    }
   ],
   "source": [
    "params = {\n",
    "    'query': '치킨',\n",
    "    'page': 46\n",
    "}\n",
    "\n",
    "res = requests.get(url, params=params, headers=headers).json()\n",
    "\n",
    "print(res)"
   ]
  },
  {
   "cell_type": "markdown",
   "metadata": {},
   "source": [
    "# TinyDB"
   ]
  },
  {
   "cell_type": "code",
   "execution_count": 6,
   "metadata": {},
   "outputs": [],
   "source": [
    "from tinydb import TinyDB, Query\n",
    "\n",
    "db = TinyDB('db.json')"
   ]
  },
  {
   "cell_type": "markdown",
   "metadata": {},
   "source": [
    "# 분할 검색\n",
    "\n",
    "- 우리나라 지도를 위경도 0.25 단위의 작은 사각형으로 쪼개어 검색\n",
    "- 상세페이지에서 가격 긁어오기 https://place.map.kakao.com/main/v/9847579\n",
    "- IP 차단 피하기 위해 5초 대기\n",
    "- DB 저장\n",
    "  - place_name: 음식점 이름\n",
    "  - menu: 메뉴 이름\n",
    "  - price: 가격"
   ]
  },
  {
   "cell_type": "code",
   "execution_count": 7,
   "metadata": {
    "scrolled": true
   },
   "outputs": [
    {
     "name": "stderr",
     "output_type": "stream",
     "text": [
      "\r",
      "  0%|          | 0/18 [00:00<?, ?it/s]"
     ]
    },
    {
     "name": "stdout",
     "output_type": "stream",
     "text": [
      "126.0 33.0\n",
      "126.0 33.25\n",
      "126.0 33.5\n",
      "126.0 33.75\n",
      "126.0 34.0\n",
      "126.0 34.25\n",
      "126.0 34.5\n",
      "126.0 34.75\n",
      "126.0 35.0\n",
      "126.0 35.25\n",
      "126.0 35.5\n",
      "126.0 35.75\n",
      "126.0 36.0\n",
      "126.0 36.25\n",
      "126.0 36.5\n",
      "126.0 36.75\n",
      "126.0 37.0\n",
      "126.0 37.25\n",
      "126.0 37.5\n",
      "126.0 37.75\n",
      "126.0 38.0\n",
      "126.0 38.25\n",
      "126.0 38.5\n",
      "126.0 38.75\n"
     ]
    },
    {
     "name": "stderr",
     "output_type": "stream",
     "text": [
      "\r",
      "  6%|▌         | 1/18 [02:06<35:58, 126.98s/it]"
     ]
    },
    {
     "name": "stdout",
     "output_type": "stream",
     "text": [
      "126.0 39.0\n",
      "126.0 39.25\n",
      "126.25 33.0\n",
      "126.25 33.25\n",
      "126.25 33.5\n",
      "126.25 33.75\n",
      "126.25 34.0\n",
      "126.25 34.25\n",
      "126.25 34.5\n",
      "126.25 34.75\n",
      "126.25 35.0\n",
      "126.25 35.25\n",
      "126.25 35.5\n",
      "126.25 35.75\n",
      "126.25 36.0\n",
      "126.25 36.25\n",
      "126.25 36.5\n",
      "126.25 36.75\n",
      "126.25 37.0\n",
      "126.25 37.25\n",
      "126.25 37.5\n",
      "126.25 37.75\n",
      "126.25 38.0\n",
      "126.25 38.25\n",
      "126.25 38.5\n",
      "126.25 38.75\n"
     ]
    },
    {
     "name": "stderr",
     "output_type": "stream",
     "text": [
      "\r",
      " 11%|█         | 2/18 [25:41<2:16:53, 513.37s/it]"
     ]
    },
    {
     "name": "stdout",
     "output_type": "stream",
     "text": [
      "126.25 39.0\n",
      "126.25 39.25\n",
      "126.5 33.0\n",
      "126.5 33.25\n",
      "126.5 33.5\n",
      "126.5 33.75\n",
      "126.5 34.0\n",
      "126.5 34.25\n",
      "126.5 34.5\n",
      "126.5 34.75\n",
      "126.5 35.0\n",
      "126.5 35.25\n",
      "126.5 35.5\n",
      "126.5 35.75\n",
      "126.5 36.0\n",
      "126.5 36.25\n",
      "126.5 36.5\n",
      "126.5 36.75\n",
      "126.5 37.0\n",
      "126.5 37.25\n",
      "126.5 37.5\n",
      "126.5 37.75\n",
      "126.5 38.0\n",
      "126.5 38.25\n",
      "126.5 38.5\n",
      "126.5 38.75\n"
     ]
    },
    {
     "name": "stderr",
     "output_type": "stream",
     "text": [
      "\r",
      " 17%|█▋        | 3/18 [1:16:31<5:18:32, 1274.13s/it]"
     ]
    },
    {
     "name": "stdout",
     "output_type": "stream",
     "text": [
      "126.5 39.0\n",
      "126.5 39.25\n",
      "126.75 33.0\n",
      "126.75 33.25\n",
      "126.75 33.5\n",
      "126.75 33.75\n",
      "126.75 34.0\n",
      "126.75 34.25\n",
      "126.75 34.5\n",
      "126.75 34.75\n",
      "126.75 35.0\n",
      "126.75 35.25\n",
      "126.75 35.5\n",
      "126.75 35.75\n",
      "126.75 36.0\n",
      "126.75 36.25\n",
      "126.75 36.5\n",
      "126.75 36.75\n",
      "126.75 37.0\n",
      "126.75 37.25\n",
      "126.75 37.5\n",
      "126.75 37.75\n",
      "126.75 38.0\n",
      "126.75 38.25\n",
      "126.75 38.5\n",
      "126.75 38.75\n",
      "126.75 39.0\n"
     ]
    },
    {
     "name": "stderr",
     "output_type": "stream",
     "text": [
      "\r",
      " 22%|██▏       | 4/18 [2:05:44<6:54:52, 1778.02s/it]"
     ]
    },
    {
     "name": "stdout",
     "output_type": "stream",
     "text": [
      "126.75 39.25\n",
      "127.0 33.0\n",
      "127.0 33.25\n",
      "127.0 33.5\n",
      "127.0 33.75\n",
      "127.0 34.0\n",
      "127.0 34.25\n",
      "127.0 34.5\n",
      "127.0 34.75\n",
      "127.0 35.0\n",
      "127.0 35.25\n",
      "127.0 35.5\n",
      "127.0 35.75\n",
      "127.0 36.0\n",
      "127.0 36.25\n",
      "127.0 36.5\n",
      "127.0 36.75\n",
      "127.0 37.0\n",
      "127.0 37.25\n",
      "127.0 37.5\n",
      "127.0 37.75\n",
      "127.0 38.0\n",
      "127.0 38.25\n",
      "127.0 38.5\n",
      "127.0 38.75\n",
      "127.0 39.0\n"
     ]
    },
    {
     "name": "stderr",
     "output_type": "stream",
     "text": [
      "\r",
      " 28%|██▊       | 5/18 [2:50:50<7:25:29, 2056.15s/it]"
     ]
    },
    {
     "name": "stdout",
     "output_type": "stream",
     "text": [
      "127.0 39.25\n",
      "127.25 33.0\n",
      "127.25 33.25\n",
      "127.25 33.5\n",
      "127.25 33.75\n",
      "127.25 34.0\n",
      "127.25 34.25\n",
      "127.25 34.5\n",
      "127.25 34.75\n",
      "127.25 35.0\n",
      "127.25 35.25\n",
      "127.25 35.5\n",
      "127.25 35.75\n",
      "127.25 36.0\n",
      "127.25 36.25\n",
      "127.25 36.5\n",
      "127.25 36.75\n",
      "127.25 37.0\n",
      "127.25 37.25\n",
      "127.25 37.5\n",
      "127.25 37.75\n",
      "127.25 38.0\n",
      "127.25 38.25\n",
      "127.25 38.5\n",
      "127.25 38.75\n",
      "127.25 39.0\n"
     ]
    },
    {
     "name": "stderr",
     "output_type": "stream",
     "text": [
      "\r",
      " 33%|███▎      | 6/18 [3:36:36<7:32:38, 2263.20s/it]"
     ]
    },
    {
     "name": "stdout",
     "output_type": "stream",
     "text": [
      "127.25 39.25\n",
      "127.5 33.0\n",
      "127.5 33.25\n",
      "127.5 33.5\n",
      "127.5 33.75\n",
      "127.5 34.0\n",
      "127.5 34.25\n",
      "127.5 34.5\n",
      "127.5 34.75\n",
      "127.5 35.0\n",
      "127.5 35.25\n",
      "127.5 35.5\n",
      "127.5 35.75\n",
      "127.5 36.0\n",
      "127.5 36.25\n",
      "127.5 36.5\n",
      "127.5 36.75\n",
      "127.5 37.0\n",
      "127.5 37.25\n",
      "127.5 37.5\n",
      "127.5 37.75\n",
      "127.5 38.0\n",
      "127.5 38.25\n",
      "127.5 38.5\n",
      "127.5 38.75\n",
      "127.5 39.0\n"
     ]
    },
    {
     "name": "stderr",
     "output_type": "stream",
     "text": [
      "\r",
      " 39%|███▉      | 7/18 [4:22:17<7:21:12, 2406.56s/it]"
     ]
    },
    {
     "name": "stdout",
     "output_type": "stream",
     "text": [
      "127.5 39.25\n",
      "127.75 33.0\n",
      "127.75 33.25\n",
      "127.75 33.5\n",
      "127.75 33.75\n",
      "127.75 34.0\n",
      "127.75 34.25\n",
      "127.75 34.5\n",
      "127.75 34.75\n",
      "127.75 35.0\n",
      "127.75 35.25\n",
      "127.75 35.5\n",
      "127.75 35.75\n",
      "127.75 36.0\n",
      "127.75 36.25\n",
      "127.75 36.5\n",
      "127.75 36.75\n",
      "127.75 37.0\n",
      "127.75 37.25\n",
      "127.75 37.5\n",
      "127.75 37.75\n",
      "127.75 38.0\n",
      "127.75 38.25\n",
      "127.75 38.5\n",
      "127.75 38.75\n",
      "127.75 39.0\n"
     ]
    },
    {
     "name": "stderr",
     "output_type": "stream",
     "text": [
      "\r",
      " 44%|████▍     | 8/18 [5:00:03<6:34:04, 2364.45s/it]"
     ]
    },
    {
     "name": "stdout",
     "output_type": "stream",
     "text": [
      "127.75 39.25\n",
      "128.0 33.0\n",
      "128.0 33.25\n",
      "128.0 33.5\n",
      "128.0 33.75\n",
      "128.0 34.0\n",
      "128.0 34.25\n",
      "128.0 34.5\n",
      "128.0 34.75\n",
      "128.0 35.0\n",
      "128.0 35.25\n",
      "128.0 35.5\n",
      "128.0 35.75\n",
      "128.0 36.0\n",
      "128.0 36.25\n",
      "128.0 36.5\n",
      "128.0 36.75\n",
      "128.0 37.0\n",
      "128.0 37.25\n",
      "128.0 37.5\n",
      "128.0 37.75\n",
      "128.0 38.0\n",
      "128.0 38.25\n",
      "128.0 38.5\n",
      "128.0 38.75\n",
      "128.0 39.0\n",
      "128.0 39.25\n"
     ]
    },
    {
     "name": "stderr",
     "output_type": "stream",
     "text": [
      "\r",
      " 50%|█████     | 9/18 [5:36:39<5:47:03, 2313.77s/it]"
     ]
    },
    {
     "name": "stdout",
     "output_type": "stream",
     "text": [
      "128.25 33.0\n",
      "128.25 33.25\n",
      "128.25 33.5\n",
      "128.25 33.75\n",
      "128.25 34.0\n",
      "128.25 34.25\n",
      "128.25 34.5\n",
      "128.25 34.75\n",
      "128.25 35.0\n",
      "128.25 35.25\n",
      "128.25 35.5\n",
      "128.25 35.75\n",
      "128.25 36.0\n",
      "128.25 36.25\n",
      "128.25 36.5\n",
      "128.25 36.75\n",
      "128.25 37.0\n",
      "128.25 37.25\n",
      "128.25 37.5\n",
      "128.25 37.75\n",
      "128.25 38.0\n",
      "128.25 38.25\n",
      "128.25 38.5\n"
     ]
    },
    {
     "name": "stderr",
     "output_type": "stream",
     "text": [
      "\r",
      " 56%|█████▌    | 10/18 [6:21:36<5:23:50, 2428.87s/it]"
     ]
    },
    {
     "name": "stdout",
     "output_type": "stream",
     "text": [
      "128.25 38.75\n",
      "128.25 39.0\n",
      "128.25 39.25\n",
      "128.5 33.0\n",
      "128.5 33.25\n",
      "128.5 33.5\n",
      "128.5 33.75\n",
      "128.5 34.0\n",
      "128.5 34.25\n",
      "128.5 34.5\n",
      "128.5 34.75\n",
      "128.5 35.0\n",
      "128.5 35.25\n",
      "128.5 35.5\n",
      "128.5 35.75\n",
      "128.5 36.0\n",
      "128.5 36.25\n",
      "128.5 36.5\n",
      "128.5 36.75\n",
      "128.5 37.0\n",
      "128.5 37.25\n",
      "128.5 37.5\n",
      "128.5 37.75\n",
      "128.5 38.0\n",
      "128.5 38.25\n",
      "128.5 38.5\n",
      "128.5 38.75\n",
      "128.5 39.0\n",
      "128.5 39.25\n"
     ]
    },
    {
     "name": "stderr",
     "output_type": "stream",
     "text": [
      "\r",
      " 61%|██████    | 11/18 [7:08:54<4:57:41, 2551.62s/it]"
     ]
    },
    {
     "name": "stdout",
     "output_type": "stream",
     "text": [
      "128.75 33.0\n",
      "128.75 33.25\n",
      "128.75 33.5\n",
      "128.75 33.75\n",
      "128.75 34.0\n",
      "128.75 34.25\n",
      "128.75 34.5\n",
      "128.75 34.75\n",
      "128.75 35.0\n",
      "128.75 35.25\n",
      "128.75 35.5\n",
      "128.75 35.75\n",
      "128.75 36.0\n",
      "128.75 36.25\n",
      "128.75 36.5\n",
      "128.75 36.75\n",
      "128.75 37.0\n",
      "128.75 37.25\n",
      "128.75 37.5\n",
      "128.75 37.75\n",
      "128.75 38.0\n",
      "128.75 38.25\n",
      "128.75 38.5\n",
      "128.75 38.75\n"
     ]
    },
    {
     "name": "stderr",
     "output_type": "stream",
     "text": [
      "\r",
      " 67%|██████▋   | 12/18 [7:43:29<4:00:50, 2408.45s/it]"
     ]
    },
    {
     "name": "stdout",
     "output_type": "stream",
     "text": [
      "128.75 39.0\n",
      "128.75 39.25\n",
      "129.0 33.0\n",
      "129.0 33.25\n",
      "129.0 33.5\n",
      "129.0 33.75\n",
      "129.0 34.0\n",
      "129.0 34.25\n",
      "129.0 34.5\n",
      "129.0 34.75\n",
      "129.0 35.0\n",
      "129.0 35.25\n",
      "129.0 35.5\n",
      "129.0 35.75\n",
      "129.0 36.0\n",
      "129.0 36.25\n",
      "129.0 36.5\n",
      "129.0 36.75\n",
      "129.0 37.0\n",
      "129.0 37.25\n",
      "129.0 37.5\n",
      "129.0 37.75\n",
      "129.0 38.0\n",
      "129.0 38.25\n",
      "129.0 38.5\n"
     ]
    },
    {
     "name": "stderr",
     "output_type": "stream",
     "text": [
      "\r",
      " 72%|███████▏  | 13/18 [8:18:45<3:13:25, 2321.01s/it]"
     ]
    },
    {
     "name": "stdout",
     "output_type": "stream",
     "text": [
      "129.0 38.75\n",
      "129.0 39.0\n",
      "129.0 39.25\n",
      "129.25 33.0\n",
      "129.25 33.25\n",
      "129.25 33.5\n",
      "129.25 33.75\n",
      "129.25 34.0\n",
      "129.25 34.25\n",
      "129.25 34.5\n",
      "129.25 34.75\n",
      "129.25 35.0\n",
      "129.25 35.25\n",
      "129.25 35.5\n",
      "129.25 35.75\n",
      "129.25 36.0\n",
      "129.25 36.25\n",
      "129.25 36.5\n",
      "129.25 36.75\n",
      "129.25 37.0\n",
      "129.25 37.25\n",
      "129.25 37.5\n",
      "129.25 37.75\n",
      "129.25 38.0\n",
      "129.25 38.25\n",
      "129.25 38.5\n",
      "129.25 38.75\n",
      "129.25 39.0\n",
      "129.25 39.25\n"
     ]
    },
    {
     "name": "stderr",
     "output_type": "stream",
     "text": [
      "\r",
      " 78%|███████▊  | 14/18 [8:50:44<2:26:41, 2200.29s/it]"
     ]
    },
    {
     "name": "stdout",
     "output_type": "stream",
     "text": [
      "129.5 33.0\n",
      "129.5 33.25\n",
      "129.5 33.5\n",
      "129.5 33.75\n",
      "129.5 34.0\n",
      "129.5 34.25\n",
      "129.5 34.5\n",
      "129.5 34.75\n",
      "129.5 35.0\n",
      "129.5 35.25\n",
      "129.5 35.5\n",
      "129.5 35.75\n",
      "129.5 36.0\n",
      "129.5 36.25\n",
      "129.5 36.5\n",
      "129.5 36.75\n",
      "129.5 37.0\n",
      "129.5 37.25\n",
      "129.5 37.5\n",
      "129.5 37.75\n",
      "129.5 38.0\n",
      "129.5 38.25\n",
      "129.5 38.5\n",
      "129.5 38.75\n",
      "129.5 39.0\n"
     ]
    },
    {
     "name": "stderr",
     "output_type": "stream",
     "text": [
      "\r",
      " 83%|████████▎ | 15/18 [8:51:59<1:18:07, 1562.55s/it]"
     ]
    },
    {
     "name": "stdout",
     "output_type": "stream",
     "text": [
      "129.5 39.25\n",
      "129.75 33.0\n",
      "129.75 33.25\n",
      "129.75 33.5\n",
      "129.75 33.75\n",
      "129.75 34.0\n",
      "129.75 34.25\n",
      "129.75 34.5\n",
      "129.75 34.75\n",
      "129.75 35.0\n",
      "129.75 35.25\n",
      "129.75 35.5\n",
      "129.75 35.75\n",
      "129.75 36.0\n",
      "129.75 36.25\n",
      "129.75 36.5\n",
      "129.75 36.75\n",
      "129.75 37.0\n",
      "129.75 37.25\n",
      "129.75 37.5\n",
      "129.75 37.75\n",
      "129.75 38.0\n",
      "129.75 38.25\n",
      "129.75 38.5\n"
     ]
    },
    {
     "name": "stderr",
     "output_type": "stream",
     "text": [
      "\r",
      " 89%|████████▉ | 16/18 [8:52:00<36:28, 1094.25s/it]  "
     ]
    },
    {
     "name": "stdout",
     "output_type": "stream",
     "text": [
      "129.75 38.75\n",
      "129.75 39.0\n",
      "129.75 39.25\n",
      "130.0 33.0\n",
      "130.0 33.25\n",
      "130.0 33.5\n",
      "130.0 33.75\n",
      "130.0 34.0\n",
      "130.0 34.25\n",
      "130.0 34.5\n",
      "130.0 34.75\n",
      "130.0 35.0\n",
      "130.0 35.25\n",
      "130.0 35.5\n",
      "130.0 35.75\n",
      "130.0 36.0\n",
      "130.0 36.25\n",
      "130.0 36.5\n",
      "130.0 36.75\n",
      "130.0 37.0\n",
      "130.0 37.25\n",
      "130.0 37.5\n",
      "130.0 37.75\n",
      "130.0 38.0\n",
      "130.0 38.25\n",
      "130.0 38.5\n",
      "130.0 38.75\n",
      "130.0 39.0\n"
     ]
    },
    {
     "name": "stderr",
     "output_type": "stream",
     "text": [
      "\r",
      " 94%|█████████▍| 17/18 [8:52:02<12:46, 766.44s/it] "
     ]
    },
    {
     "name": "stdout",
     "output_type": "stream",
     "text": [
      "130.0 39.25\n",
      "130.25 33.0\n",
      "130.25 33.25\n",
      "130.25 33.5\n",
      "130.25 33.75\n",
      "130.25 34.0\n",
      "130.25 34.25\n",
      "130.25 34.5\n",
      "130.25 34.75\n",
      "130.25 35.0\n",
      "130.25 35.25\n",
      "130.25 35.5\n",
      "130.25 35.75\n",
      "130.25 36.0\n",
      "130.25 36.25\n",
      "130.25 36.5\n",
      "130.25 36.75\n",
      "130.25 37.0\n",
      "130.25 37.25\n",
      "130.25 37.5\n",
      "130.25 37.75\n",
      "130.25 38.0\n",
      "130.25 38.25\n",
      "130.25 38.5\n"
     ]
    },
    {
     "name": "stderr",
     "output_type": "stream",
     "text": [
      "100%|██████████| 18/18 [8:52:03<00:00, 1773.54s/it]"
     ]
    },
    {
     "name": "stdout",
     "output_type": "stream",
     "text": [
      "130.25 38.75\n",
      "130.25 39.0\n",
      "130.25 39.25\n"
     ]
    },
    {
     "name": "stderr",
     "output_type": "stream",
     "text": [
      "\n"
     ]
    }
   ],
   "source": [
    "start_x = 126 # 126.0 - 130.0\n",
    "start_y = 33 # 33.0 - 39.0\n",
    "\n",
    "dx = 0.25\n",
    "dy = 0.25\n",
    "\n",
    "for i in tqdm(range(18)):\n",
    "    for j in range(26):\n",
    "        x = start_x + dx * i\n",
    "        y = start_y + dy * j\n",
    "        print(x, y)\n",
    "\n",
    "        for page in range(1, 46):\n",
    "            params = {\n",
    "                'query': '치킨',\n",
    "                'page': page,\n",
    "                'rect': f'{x},{y},{x + dx},{y + dy}'\n",
    "            }\n",
    "\n",
    "            res = requests.get(url, params=params, headers=headers).json()\n",
    "            \n",
    "            if len(res['documents']) == 0:\n",
    "                break\n",
    "\n",
    "            for doc in res['documents']:\n",
    "                place_name = doc['place_name']\n",
    "\n",
    "                detail_url = f'https://place.map.kakao.com/main/v/{doc[\"id\"]}'\n",
    "\n",
    "                data = requests.get(detail_url, headers=headers).json()\n",
    "\n",
    "                if 'menuInfo' not in data:\n",
    "                    continue\n",
    "\n",
    "                menu_list = data['menuInfo']['menuList']\n",
    "\n",
    "                for menu_item in menu_list:\n",
    "                    price = 0\n",
    "                    if 'price' in menu_item:\n",
    "                        price = int(menu_item['price'].replace(',', ''))\n",
    "\n",
    "                    db.insert({\n",
    "                        'place_name': place_name,\n",
    "                        'menu': menu_item['menu'],\n",
    "                        'price': price\n",
    "                    })\n",
    "                \n",
    "                time.sleep(5)\n",
    "\n",
    "            if res['meta']['is_end']:\n",
    "                break"
   ]
  },
  {
   "cell_type": "markdown",
   "metadata": {},
   "source": [
    "# 저장된 결과 확인"
   ]
  },
  {
   "cell_type": "code",
   "execution_count": 10,
   "metadata": {},
   "outputs": [
    {
     "data": {
      "text/plain": [
       "<TinyDB tables=['_default'], tables_count=1, default_table_documents_count=56202, all_tables_documents_count=['_default=56202']>"
      ]
     },
     "execution_count": 10,
     "metadata": {},
     "output_type": "execute_result"
    }
   ],
   "source": [
    "db"
   ]
  },
  {
   "cell_type": "markdown",
   "metadata": {},
   "source": [
    "# 35000원 초과하는 메뉴 검색"
   ]
  },
  {
   "cell_type": "code",
   "execution_count": 15,
   "metadata": {
    "scrolled": true
   },
   "outputs": [
    {
     "data": {
      "text/plain": [
       "[{'place_name': '돌담너머바다 판포점', 'menu': '돔베 스테이크', 'price': 39000},\n",
       " {'place_name': '마담나탈리소셜클럽', 'menu': '글렌피딕 15Y', 'price': 250000},\n",
       " {'place_name': '인판포', 'menu': '바베큐 플레이터', 'price': 60000},\n",
       " {'place_name': '인판포', 'menu': '마라소라새우', 'price': 40000},\n",
       " {'place_name': '제마닭', 'menu': '닭도리탕(대)', 'price': 36000},\n",
       " {'place_name': '제마닭', 'menu': '꽃도리탕(중)', 'price': 38000},\n",
       " {'place_name': '제마닭', 'menu': '꽃도리탕(대)', 'price': 48000},\n",
       " {'place_name': '먹고정', 'menu': '백돼지한근반', 'price': 63000},\n",
       " {'place_name': '먹고정', 'menu': '백돼지한근', 'price': 42000},\n",
       " {'place_name': '먹고정', 'menu': '흑돼지한근반', 'price': 80000},\n",
       " {'place_name': '먹고정', 'menu': '흑돼지한근', 'price': 54000},\n",
       " {'place_name': '모루쿠다', 'menu': '모루쿠다 육합', 'price': 40000},\n",
       " {'place_name': '원조장수통닭', 'menu': '토종닭', 'price': 60000},\n",
       " {'place_name': '원조장수통닭', 'menu': '오리주물럭', 'price': 60000},\n",
       " {'place_name': '진솔통닭', 'menu': '토종닭(1마리)', 'price': 60000},\n",
       " {'place_name': '진솔통닭', 'menu': '오리(1마리)', 'price': 60000},\n",
       " {'place_name': '오름지미정원', 'menu': '찹스테이크 (320g)', 'price': 36000},\n",
       " {'place_name': '홍대감더덕토종닭', 'menu': '누룽지더덕토종닭', 'price': 60000},\n",
       " {'place_name': '화덕에꾸운닭 전남담양점', 'menu': '랍스터 치킨', 'price': 38000},\n",
       " {'place_name': '다사랑양념통닭', 'menu': '토종백숙', 'price': 40000},\n",
       " {'place_name': '아웃닭 신촌역점', 'menu': '오리지날 레드핀 양념치킨', 'price': 187000},\n",
       " {'place_name': '누구나홀딱반한닭 홍대점', 'menu': '바사칸치빵파티', 'price': 36900},\n",
       " {'place_name': '마녀커리크림치킨 본점', 'menu': '3-4인세트 Best3', 'price': 40000},\n",
       " {'place_name': '크치치킨 경희대점', 'menu': '치킨세트D', 'price': 37000},\n",
       " {'place_name': '누구나홀딱반한닭 선릉점', 'menu': '바사칸치빵파티', 'price': 38900},\n",
       " {'place_name': '풍미통닭', 'menu': '풍미스페셜세트', 'price': 49000},\n",
       " {'place_name': '원조꼬끼오옛날통닭', 'menu': '감자튀김', 'price': 60000},\n",
       " {'place_name': '산내돌짜장', 'menu': '매운돼지갈비찜 (큰대)', 'price': 39000},\n",
       " {'place_name': '서울치킨', 'menu': '옻닭', 'price': 40000},\n",
       " {'place_name': '평화닭갈비', 'menu': '닭볶음탕', 'price': 50000},\n",
       " {'place_name': '영자네', 'menu': '닭볶음탕(4인기준)', 'price': 47000},\n",
       " {'place_name': '우정통닭', 'menu': '산오징어', 'price': 40000},\n",
       " {'place_name': '우정통닭', 'menu': '광어사시미', 'price': 50000},\n",
       " {'place_name': '우정통닭', 'menu': '감성동사시미', 'price': 60000},\n",
       " {'place_name': '산골펜션가든', 'menu': '토종닭', 'price': 60000},\n",
       " {'place_name': '산골펜션가든', 'menu': '토종닭볶음', 'price': 60000},\n",
       " {'place_name': '화덕에꾸운닭 강원홍천점', 'menu': '랍스터 치킨', 'price': 38000},\n",
       " {'place_name': '길성이 원주점', 'menu': '누룽지 닭 백숙', 'price': 40000},\n",
       " {'place_name': '길성이 원주점', 'menu': '누룽지 오리 백숙', 'price': 50000},\n",
       " {'place_name': '길성이 원주점', 'menu': '오리주물럭(대)', 'price': 50000},\n",
       " {'place_name': '길성이 원주점', 'menu': '전복오리탕', 'price': 55000},\n",
       " {'place_name': '길성이 원주점', 'menu': '해물영계탕', 'price': 50000},\n",
       " {'place_name': '화덕에꾸운닭 창원진동점', 'menu': '랍스터 치킨', 'price': 38000},\n",
       " {'place_name': '하이네켄라운지', 'menu': 'SET1', 'price': 53000},\n",
       " {'place_name': '하이네켄라운지', 'menu': 'SET2', 'price': 50000},\n",
       " {'place_name': '하이네켄라운지', 'menu': 'SET3', 'price': 49000},\n",
       " {'place_name': '하이네켄라운지', 'menu': 'SET4', 'price': 48000},\n",
       " {'place_name': '화월통닭집', 'menu': '촌닭백숙', 'price': 40000},\n",
       " {'place_name': '앗싸마늘닭 본점', 'menu': '앗싸 스페셜 두마리 치찜세트', 'price': 37900},\n",
       " {'place_name': '안동찜닭원조', 'menu': '안동찜닭(대)', 'price': 45000},\n",
       " {'place_name': '황포식당', 'menu': '모듬조개구이(소)', 'price': 50000},\n",
       " {'place_name': '바드리산장모텔 바드리식당', 'menu': '한방백숙 촌닭', 'price': 40000},\n",
       " {'place_name': '바드리산장모텔 바드리식당', 'menu': '숙박+야외 6인평상', 'price': 50000},\n",
       " {'place_name': '바드리산장모텔 바드리식당', 'menu': '바다장어구이(국내 자연산)', 'price': 40000},\n",
       " {'place_name': '바드리산장모텔 바드리식당',\n",
       "  'menu': '숙박+야외(대형)참숯바베큐세트+평상',\n",
       "  'price': 70000},\n",
       " {'place_name': '바드리산장모텔 바드리식당', 'menu': '숙박+야외 참숯바베큐세트+6인평상', 'price': 60000},\n",
       " {'place_name': '산위에통나무집', 'menu': '닭백숙', 'price': 45000},\n",
       " {'place_name': '산위에통나무집', 'menu': '오리백숙', 'price': 45000},\n",
       " {'place_name': '산위에통나무집', 'menu': '옻닭', 'price': 45000},\n",
       " {'place_name': '산위에통나무집', 'menu': '엄계닭', 'price': 45000},\n",
       " {'place_name': '빅대디', 'menu': '4인세트', 'price': 44500},\n",
       " {'place_name': '영양바베큐&뭉티기', 'menu': '한우 뭉티기', 'price': 40000},\n",
       " {'place_name': '영양바베큐&뭉티기', 'menu': '양지오드레기', 'price': 40000}]"
      ]
     },
     "execution_count": 15,
     "metadata": {},
     "output_type": "execute_result"
    }
   ],
   "source": [
    "db.search(Query().price > 35000)"
   ]
  },
  {
   "cell_type": "markdown",
   "metadata": {},
   "source": [
    "# 35000 초과 AND \"치\" 포함"
   ]
  },
  {
   "cell_type": "code",
   "execution_count": 16,
   "metadata": {},
   "outputs": [
    {
     "data": {
      "text/plain": [
       "[{'place_name': '화덕에꾸운닭 전남담양점', 'menu': '랍스터 치킨', 'price': 38000},\n",
       " {'place_name': '아웃닭 신촌역점', 'menu': '오리지날 레드핀 양념치킨', 'price': 187000},\n",
       " {'place_name': '누구나홀딱반한닭 홍대점', 'menu': '바사칸치빵파티', 'price': 36900},\n",
       " {'place_name': '크치치킨 경희대점', 'menu': '치킨세트D', 'price': 37000},\n",
       " {'place_name': '누구나홀딱반한닭 선릉점', 'menu': '바사칸치빵파티', 'price': 38900},\n",
       " {'place_name': '화덕에꾸운닭 강원홍천점', 'menu': '랍스터 치킨', 'price': 38000},\n",
       " {'place_name': '화덕에꾸운닭 창원진동점', 'menu': '랍스터 치킨', 'price': 38000},\n",
       " {'place_name': '앗싸마늘닭 본점', 'menu': '앗싸 스페셜 두마리 치찜세트', 'price': 37900}]"
      ]
     },
     "execution_count": 16,
     "metadata": {},
     "output_type": "execute_result"
    }
   ],
   "source": [
    "db.search((Query().price > 35000) & (Query().menu.search('치')))"
   ]
  },
  {
   "cell_type": "markdown",
   "metadata": {},
   "source": [
    "# 전국 치킨 평균 가격\n",
    "\n",
    "- 프랜차이즈를 모두 포함하여 정확한 가격은 아님"
   ]
  },
  {
   "cell_type": "code",
   "execution_count": 43,
   "metadata": {},
   "outputs": [
    {
     "name": "stdout",
     "output_type": "stream",
     "text": [
      "치킨 22670개의 평균 가격은 17762.21원 입니다\n"
     ]
    }
   ],
   "source": [
    "chickens = db.search(Query().menu.search('치'))\n",
    "\n",
    "prices = []\n",
    "\n",
    "for chicken in chickens:\n",
    "    prices.append(chicken['price'])\n",
    "    \n",
    "avg_price = sum(prices) / len(prices)\n",
    "\n",
    "print('치킨 %d개의 평균 가격은 %.2f원 입니다' % (len(chickens), avg_price))"
   ]
  },
  {
   "cell_type": "markdown",
   "metadata": {},
   "source": [
    "# 가격 분포 그래프"
   ]
  },
  {
   "cell_type": "code",
   "execution_count": 41,
   "metadata": {},
   "outputs": [
    {
     "data": {
      "text/plain": [
       "<AxesSubplot:ylabel='Count'>"
      ]
     },
     "execution_count": 41,
     "metadata": {},
     "output_type": "execute_result"
    },
    {
     "data": {
      "image/png": "[encoded data removed]",
      "text/plain": [
       "<Figure size 1440x720 with 1 Axes>"
      ]
     },
     "metadata": {
      "needs_background": "light"
     },
     "output_type": "display_data"
    }
   ],
   "source": [
    "import seaborn as sns\n",
    "import matplotlib.pyplot as plt\n",
    "\n",
    "fig, ax = plt.subplots(figsize=(20, 10))\n",
    "sns.histplot(x=prices, ax=ax)"
   ]
  },
  {
   "cell_type": "code",
   "execution_count": null,
   "metadata": {},
   "outputs": [],
   "source": []
  }
 ],
 "metadata": {
  "kernelspec": {
   "display_name": "Python 3",
   "language": "python",
   "name": "python3"
  },
  "language_info": {
   "codemirror_mode": {
    "name": "ipython",
    "version": 3
   },
   "file_extension": ".py",
   "mimetype": "text/x-python",
   "name": "python",
   "nbconvert_exporter": "python",
   "pygments_lexer": "ipython3",
   "version": "3.7.9"
  }
 },
 "nbformat": 4,
 "nbformat_minor": 4
}
